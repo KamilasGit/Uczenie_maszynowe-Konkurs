{
  "nbformat": 4,
  "nbformat_minor": 0,
  "metadata": {
    "colab": {
      "provenance": [],
      "name": "Konkurs.ipynb"
    },
    "kernelspec": {
      "name": "python3",
      "display_name": "Python 3"
    },
    "language_info": {
      "name": "python"
    }
  },
  "cells": [
    {
      "cell_type": "code",
      "execution_count": null,
      "metadata": {
        "colab": {
          "base_uri": "https://localhost:8080/"
        },
        "id": "-sMLWRXexf_H",
        "outputId": "f2861ba3-40cb-409e-cbb5-19631a2889b4"
      },
      "outputs": [
        {
          "output_type": "stream",
          "name": "stdout",
          "text": [
            "Witaj w grze zgadywanki!\n",
            "Wylosowałem liczbę od 1 do 100. Spróbuj ją zgadnąć!\n",
            "Podaj liczbę: 3\n",
            "Za mało!\n",
            "Podaj liczbę: 50\n",
            "Za mało!\n",
            "Podaj liczbę: 80\n",
            "Za dużo!\n",
            "Podaj liczbę: 70\n",
            "Za mało!\n",
            "Podaj liczbę: 76\n",
            "Za mało!\n",
            "Podaj liczbę: 78\n",
            "Za mało!\n",
            "Podaj liczbę: 79\n",
            "Brawo! Zgadłeś liczbę po 7 próbach!\n",
            "Witaj w grze zgadywanki!\n",
            "Wylosowałem liczbę od 1 do 100. Spróbuj ją zgadnąć!\n"
          ]
        }
      ],
      "source": [
        "import random\n",
        "\n",
        "def play_game():\n",
        "    print(\"Witaj w grze zgadywanki!\")\n",
        "    print(\"Wylosowałem liczbę od 1 do 100. Spróbuj ją zgadnąć!\")\n",
        "    secret_number = random.randint(1, 100)\n",
        "    attempts = 0\n",
        "\n",
        "    while True:\n",
        "        guess = int(input(\"Podaj liczbę: \"))\n",
        "        attempts += 1\n",
        "\n",
        "        if guess < secret_number:\n",
        "            print(\"Za mało!\")\n",
        "        elif guess > secret_number:\n",
        "            print(\"Za dużo!\")\n",
        "        else:\n",
        "            print(\"Brawo! Zgadłeś liczbę po\", attempts, \"próbach!\")\n",
        "            break\n",
        "\n",
        "    return attempts\n",
        "\n",
        "def train_model(num_episodes):\n",
        "    dataset = []\n",
        "\n",
        "    for _ in range(num_episodes):\n",
        "        secret_number = random.randint(1, 100)\n",
        "        attempts = play_game()\n",
        "        dataset.append((secret_number, attempts))\n",
        "\n",
        "    # Tworzenie prostego modelu uczenia maszynowego\n",
        "    model = {}\n",
        "    for secret_number, attempts in dataset:\n",
        "        if secret_number not in model:\n",
        "            model[secret_number] = []\n",
        "        model[secret_number].append(attempts)\n",
        "\n",
        "    return model\n",
        "\n",
        "def guess_number(model):\n",
        "    print(\"Teraz czas na mnie! Spróbuję zgadnąć Twoją liczbę.\")\n",
        "    while True:\n",
        "        guess = random.randint(1, 100)\n",
        "        print(\"Zgaduję:\", guess)\n",
        "\n",
        "        if guess in model:\n",
        "            avg_attempts = sum(model[guess]) / len(model[guess])\n",
        "            print(\"Średnia liczba prób dla tej liczby:\", avg_attempts)\n",
        "        else:\n",
        "            print(\"Nie mam jeszcze wystarczających informacji o tej liczbie.\")\n",
        "\n",
        "        answer = input(\"Czy to jest Twoja liczba? (t/n): \")\n",
        "        if answer.lower() == \"t\":\n",
        "            print(\"Udało mi się zgadnąć Twoją liczbę!\")\n",
        "            break\n",
        "\n",
        "# Uruchamianie gry\n",
        "num_episodes = 5  # Liczba gier, które komputer będzie grał w celu uczenia\n",
        "model = train_model(num_episodes)\n",
        "guess_number(model)\n"
      ]
    }
  ]
}